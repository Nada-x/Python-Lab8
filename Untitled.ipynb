{
 "cells": [
  {
   "cell_type": "code",
   "execution_count": 10,
   "id": "f958f781-67b3-494d-bec5-dfa0811ee016",
   "metadata": {},
   "outputs": [],
   "source": [
    "class Product:\n",
    "    def __init__(self, name, price, quantity):\n",
    "        self.name = name\n",
    "        self.price = price\n",
    "        self.quantity = quantity\n",
    "\n",
    "    def update_quantity(self, new_quantity):\n",
    "        self.quantity = new_quantity if new_quantity >= 0 else 0\n",
    "\n",
    "    def calculate_total_price(self):\n",
    "        return self.price * self.quantity\n",
    "\n",
    "\n",
    "class Inventory:\n",
    "    def __init__(self):\n",
    "        self.products = {}\n",
    "\n",
    "    def add_product(self, product):\n",
    "        self.products[product.name] = product\n",
    "\n",
    "    def update_product(self, product_name, quantity=None, price=None):\n",
    "        product = self.products.get(product_name)\n",
    "        if product:\n",
    "            if quantity is not None:\n",
    "                product.update_quantity(quantity)\n",
    "            if price is not None:\n",
    "                product.price = price\n",
    "\n",
    "    def remove_product(self, product_name):\n",
    "        self.products.pop(product_name, None)\n",
    "\n",
    "    def calculate_total_price(self):\n",
    "        return sum(product.calculate_total_price() for product in self.products.values())\n",
    "\n",
    "\n",
    "\n",
    "product1 = Product(\"Apple\", 0.5, 10)\n",
    "product2 = Product(\"Banana\", 0.3, 15)\n",
    "product3 = Product(\"Orange\", 0.4, 20)\n",
    "\n",
    "inventory = Inventory()\n"
   ]
  },
  {
   "cell_type": "code",
   "execution_count": null,
   "id": "8f9d75ff-f622-44ed-8ed1-3a0fe5043d32",
   "metadata": {},
   "outputs": [],
   "source": []
  }
 ],
 "metadata": {
  "kernelspec": {
   "display_name": "Python 3 (ipykernel)",
   "language": "python",
   "name": "python3"
  },
  "language_info": {
   "codemirror_mode": {
    "name": "ipython",
    "version": 3
   },
   "file_extension": ".py",
   "mimetype": "text/x-python",
   "name": "python",
   "nbconvert_exporter": "python",
   "pygments_lexer": "ipython3",
   "version": "3.11.4"
  }
 },
 "nbformat": 4,
 "nbformat_minor": 5
}
